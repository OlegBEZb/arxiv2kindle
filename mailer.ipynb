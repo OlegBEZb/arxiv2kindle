{
 "cells": [
  {
   "cell_type": "markdown",
   "metadata": {},
   "source": [
    "# From https://gist.github.com/theSage21/a19d68778c647a34c8ef21bf2f2a6c14?source=post_page---------------------------"
   ]
  },
  {
   "cell_type": "markdown",
   "metadata": {},
   "source": [
    "Это работает, но всё едет"
   ]
  },
  {
   "cell_type": "code",
   "execution_count": 1,
   "metadata": {},
   "outputs": [],
   "source": [
    "# encoding: utf-8\n",
    "\n",
    "# Install: pipenv install requests bs4 --python 3\n",
    "# Usage: python mailer.py https://arxiv.org/abs/1805.12076\n",
    "# Always supply an arxiv ABS page!!!\n",
    "\n",
    "import sys\n",
    "import os\n",
    "import smtplib\n",
    "import requests\n",
    "from bs4 import BeautifulSoup\n",
    "from email import encoders\n",
    "from email.mime.base import MIMEBase\n",
    "from email.mime.multipart import MIMEMultipart\n",
    "\n",
    "COMMASPACE = ', '"
   ]
  },
  {
   "cell_type": "code",
   "execution_count": 5,
   "metadata": {},
   "outputs": [],
   "source": [
    "def send_file(path):\n",
    "    kindle_email = credentials['kindle_email'] # amazon.in/myk\n",
    "    your_gmail = credentials['your_gmail'] # https://myaccount.google.com/apppasswords\n",
    "    gmailpass = credentials['gmailpass'] # amazon.in/myk\n",
    "    \n",
    "    outer = MIMEMultipart()\n",
    "    outer['Subject'] = 'convert'\n",
    "    outer['To'] = COMMASPACE.join(recipients)\n",
    "    outer['From'] = sender\n",
    "    outer.preamble = 'You will not see this in a MIME-aware mail reader.\\n'\n",
    "\n",
    "    # List of attachments\n",
    "    attachments = [path]\n",
    "\n",
    "    # Add the attachments to the message\n",
    "    for file in attachments:\n",
    "        try:\n",
    "            with open(file, 'rb') as fp:\n",
    "                msg = MIMEBase('application', \"octet-stream\")\n",
    "                msg.set_payload(fp.read())\n",
    "            encoders.encode_base64(msg)\n",
    "            msg.add_header('Content-Disposition', 'attachment', filename=os.path.basename(file))\n",
    "            outer.attach(msg)\n",
    "        except:\n",
    "            print(\"Unable to open one of the attachments. Error: \", sys.exc_info()[0])\n",
    "            raise\n",
    "\n",
    "    composed = outer.as_string()\n",
    "\n",
    "    # Send the email\n",
    "    try:\n",
    "        with smtplib.SMTP_SSL('smtp.gmail.com') as s:\n",
    "            #s.starttls()\n",
    "            s.login(sender, gmail_password)\n",
    "            s.sendmail(sender, recipients, composed)\n",
    "            s.close()\n",
    "        print(\"Email sent!\")\n",
    "    except:\n",
    "        print(\"Unable to send the email. Error: \", sys.exc_info()[0])\n",
    "        raise"
   ]
  },
  {
   "cell_type": "code",
   "execution_count": 6,
   "metadata": {
    "scrolled": true
   },
   "outputs": [
    {
     "name": "stdout",
     "output_type": "stream",
     "text": [
      "Downloading https://arxiv.org/pdf/1310.4546.pdf\n",
      "Distributed Representations of Words and Phrases and their Compositionality.pdf\n",
      "Sending https://arxiv.org/pdf/1310.4546.pdf\n",
      "Email sent!\n",
      "Removing temp file\n",
      "Done\n"
     ]
    }
   ],
   "source": [
    "url = \"http://arxiv.org/abs/1310.4546\"\n",
    "\n",
    "\n",
    "if 'arxiv.org' in url and '.pdf' in url:\n",
    "    url = url.replace('.pdf', '')\n",
    "    url = 'https://arxiv.org/abs/' + url.split('/')[-1]\n",
    "if 'abs' in url:\n",
    "    html = requests.get(url).text\n",
    "    soup = BeautifulSoup(html, 'html.parser')\n",
    "    t = soup.find('h1', attrs={\"class\": \"title\"})\n",
    "    t = t.text.replace('Title:', '').strip()\n",
    "    url = 'https://arxiv.org/pdf/' + url.split('/')[-1] + '.pdf'\n",
    "    fname = t + '.pdf'\n",
    "else:\n",
    "    fname = url.split('/')[-1]\n",
    "\n",
    "print('Downloading', url)\n",
    "print(fname)\n",
    "r = requests.get(url, allow_redirects=True)\n",
    "with open(fname, 'wb') as fl:\n",
    "    fl.write(r.content)\n",
    "\n",
    "print('Sending', url)\n",
    "send_file(fname)\n",
    "print('Removing temp file')\n",
    "os.remove(fname)\n",
    "print('Done')"
   ]
  }
 ],
 "metadata": {
  "kernelspec": {
   "display_name": "Python 3",
   "language": "python",
   "name": "python3"
  },
  "language_info": {
   "codemirror_mode": {
    "name": "ipython",
    "version": 3
   },
   "file_extension": ".py",
   "mimetype": "text/x-python",
   "name": "python",
   "nbconvert_exporter": "python",
   "pygments_lexer": "ipython3",
   "version": "3.6.9"
  },
  "latex_envs": {
   "LaTeX_envs_menu_present": true,
   "autoclose": false,
   "autocomplete": true,
   "bibliofile": "biblio.bib",
   "cite_by": "apalike",
   "current_citInitial": 1,
   "eqLabelWithNumbers": true,
   "eqNumInitial": 1,
   "hotkeys": {
    "equation": "Ctrl-E",
    "itemize": "Ctrl-I"
   },
   "labels_anchors": false,
   "latex_user_defs": false,
   "report_style_numbering": false,
   "user_envs_cfg": false
  },
  "toc": {
   "base_numbering": 1,
   "nav_menu": {},
   "number_sections": true,
   "sideBar": true,
   "skip_h1_title": false,
   "title_cell": "Table of Contents",
   "title_sidebar": "Contents",
   "toc_cell": false,
   "toc_position": {},
   "toc_section_display": true,
   "toc_window_display": false
  },
  "varInspector": {
   "cols": {
    "lenName": 16,
    "lenType": 16,
    "lenVar": 40
   },
   "kernels_config": {
    "python": {
     "delete_cmd_postfix": "",
     "delete_cmd_prefix": "del ",
     "library": "var_list.py",
     "varRefreshCmd": "print(var_dic_list())"
    },
    "r": {
     "delete_cmd_postfix": ") ",
     "delete_cmd_prefix": "rm(",
     "library": "var_list.r",
     "varRefreshCmd": "cat(var_dic_list()) "
    }
   },
   "types_to_exclude": [
    "module",
    "function",
    "builtin_function_or_method",
    "instance",
    "_Feature"
   ],
   "window_display": false
  }
 },
 "nbformat": 4,
 "nbformat_minor": 2
}
